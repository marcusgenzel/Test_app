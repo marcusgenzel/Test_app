{
 "cells": [
  {
   "cell_type": "markdown",
   "metadata": {},
   "source": [
    "Developed by: Marcus.Genzel@tu-dresden.de / Thomas.Reimann@tu-dresden.de \n",
    "\n",
    "Last Updated: 12.01.2024\n",
    "___"
   ]
  },
  {
   "cell_type": "code",
   "execution_count": 1,
   "metadata": {},
   "outputs": [],
   "source": [
    "# Load packages\n",
    "# 1. Standard/Built-in library imports\n",
    "# 2. Related third party library imports\n",
    "# 3. Local application/library specific imports.\n",
    "import os\n",
    "import sys\n",
    "\n",
    "import flopy\n",
    "import matplotlib.pyplot as plt\n",
    "import numpy as np\n",
    "import ipywidgets as widgets\n",
    "from ipywidgets import interactive\n",
    "\n",
    "main_dir = os.getcwd()\n",
    "os.chdir(\"..\")\n",
    "sys.path.append(os.getcwd())\n",
    "from topic_func.EX_Modpath import *\n",
    "from topic_func.postprocess import *\n",
    "os.chdir(main_dir)\n",
    "\n",
    "# sys.path.append(\"C:/GW_GitHub/TUD_GW_MOD/basic_func\")\n",
    "# from basic_func.postprocess import *"
   ]
  },
  {
   "cell_type": "code",
   "execution_count": 2,
   "metadata": {},
   "outputs": [],
   "source": [
    "# Set the default figure size\n",
    "plt.rcParams['figure.figsize'] = (8,4)"
   ]
  },
  {
   "cell_type": "code",
   "execution_count": 3,
   "metadata": {},
   "outputs": [
    {
     "data": {
      "application/vnd.jupyter.widget-view+json": {
       "model_id": "1cdf19b1e7d04093be7d48fc10f17d1d",
       "version_major": 2,
       "version_minor": 0
      },
      "text/plain": [
       "interactive(children=(FloatLogSlider(value=2.5e-05, continuous_update=False, description='Kh [m/s]:', max=-3.0…"
      ]
     },
     "metadata": {},
     "output_type": "display_data"
    }
   ],
   "source": [
    "# Create the model object (update autom. the model when parameters change)\n",
    "interactive_plot = interactive(predefined_model, \n",
    "                               model_ws = os.path.join(os.getcwd(), '01_EX')\n",
    ",                               hk = hk_slider, # horizontal hydraulic conductivity\n",
    "                               chd_l = chd_l_slider, # left boundary head\n",
    "                               chd_r = chd_r_slider, # right boundary head\n",
    "                               lay_CHD = lay_CHD_slider, # layer of the constant head boundary (0 = all layers)\n",
    "                               prt = prt_slider, # partickle runtime\n",
    "                               nlay = nlay_slider, # number of layers\n",
    "                               nr_cells = nr_cells_slider, # number of cells in x- and y-direction\n",
    "                               celGlo = celGlo_slider, # cell size\n",
    "                               )\n",
    "# Show the results\n",
    "display(interactive_plot)"
   ]
  }
 ],
 "metadata": {
  "kernelspec": {
   "display_name": "tud_igw_mod",
   "language": "python",
   "name": "python3"
  },
  "language_info": {
   "codemirror_mode": {
    "name": "ipython",
    "version": 3
   },
   "file_extension": ".py",
   "mimetype": "text/x-python",
   "name": "python",
   "nbconvert_exporter": "python",
   "pygments_lexer": "ipython3",
   "version": "3.12.0"
  }
 },
 "nbformat": 4,
 "nbformat_minor": 2
}
